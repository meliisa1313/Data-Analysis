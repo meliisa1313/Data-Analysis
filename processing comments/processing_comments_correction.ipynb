{
  "cells": [
    {
      "cell_type": "markdown",
      "metadata": {},
      "source": [
        "By: Michał Marusiński"
      ]
    },
    {
      "cell_type": "markdown",
      "metadata": {
        "id": "sTD7z5UkS7zB"
      },
      "source": [
        "Because of the mistake made in a previous (processing_comments_participants_pic) file about deleting some of the patients based on problems with a fragment of experiment that not influence our data analysis\n",
        "This code is a follow-up to a previous results, where some of the invalid_patients will be added again to our main participants table"
      ]
    },
    {
      "cell_type": "code",
      "execution_count": 1,
      "metadata": {
        "id": "BJwPnHG7S7zH"
      },
      "outputs": [],
      "source": [
        "import pandas as pd\n",
        "import numpy as np\n",
        "import textwrap"
      ]
    },
    {
      "cell_type": "code",
      "execution_count": 2,
      "metadata": {
        "id": "KSbkQXdqS7zK"
      },
      "outputs": [],
      "source": [
        "invalid_patients = [\"S09\", \"S07\", \"S15\", \"S28\", \"S12\", \"S24\", \"S35\", \"S37\", \"S38\", \"S43\", \"S45\", \"S48\", \"S54\", \"S53\", \"S66\", \"S83\", \"S93\", \"S95\"]"
      ]
    },
    {
      "cell_type": "code",
      "execution_count": 5,
      "metadata": {
        "id": "xwTBvOA7S7zL"
      },
      "outputs": [],
      "source": [
        "data_pic = pd.read_excel(r\"/content/participants_pic.xlsx\")\n",
        "data_pic_filtered = pd.read_excel(r\"/content/participants_pic_filtered.xlsx\")"
      ]
    },
    {
      "cell_type": "code",
      "execution_count": 6,
      "metadata": {
        "colab": {
          "base_uri": "https://localhost:8080/"
        },
        "id": "jU8O37-nS7zM",
        "outputId": "b0425ee9-def0-41ad-aa2d-16367676f5e1"
      },
      "outputs": [
        {
          "data": {
            "text/plain": [
              "Index(['Numer osoby', 'płeć', 'kolor oczu', 'kalibracja_PICTURE1',\n",
              "       'kalibracja_PICTURE2', 'kalibracja_PICTURE3', 'Dodatkowe uwagi'],\n",
              "      dtype='object')"
            ]
          },
          "execution_count": 6,
          "metadata": {},
          "output_type": "execute_result"
        }
      ],
      "source": [
        "data_pic_filtered.columns"
      ]
    },
    {
      "cell_type": "markdown",
      "metadata": {
        "id": "z0N2Bf12XntG"
      },
      "source": [
        "To avoid cutting off our comments by Jupyter notebook use textwrap.wrap function or add a setting to pandas : **pd.set_option('display.max_colwidth', None)**"
      ]
    },
    {
      "cell_type": "code",
      "execution_count": 7,
      "metadata": {
        "id": "mrSvx7KgS7zN"
      },
      "outputs": [],
      "source": [
        "def wrap_text(text, width=70):\n",
        "    return \"\\n\".join(textwrap.wrap(text, width))"
      ]
    },
    {
      "cell_type": "code",
      "execution_count": 11,
      "metadata": {
        "colab": {
          "base_uri": "https://localhost:8080/"
        },
        "id": "4vao0B_kS7zO",
        "outputId": "b7d6b65e-6f1c-4809-aa39-5eccc3d3a620"
      },
      "outputs": [
        {
          "name": "stdout",
          "output_type": "stream",
          "text": [
            "                                       Dodatkowe uwagi Duże problemy z\n",
            "kalibracją, badanie opóźnione o godzinę. Nie rozpoznaje źrenicy od\n",
            "tęczówki w momencie powiększenia źrenicy.\n",
            "Is this sample valid?: (yes / no)no\n",
            "  Dodatkowe uwagi Ludzie z głęboko osadzonymi oczami dużo gorzej się\n",
            "kalibrują, na części z obrazkami niby kalibracja ok a znajdywało potem\n",
            "bardziej całą tęczówkę niż źrenicę.\n",
            "Is this sample valid?: (yes / no)no\n",
            "                                             Dodatkowe uwagi non-\n",
            "monotonic timestamp - stracone dane z 5 ostatnich filmów\n",
            "Is this sample valid?: (yes / no)yes\n",
            "\n",
            "\n",
            "(88, 7)\n",
            "                                            Dodatkowe uwagi non-\n",
            "monotonic timestamp w 1cz dżwięków, stracone 2-3 bodźce\n",
            "Is this sample valid?: (yes / no)yes\n",
            "\n",
            "\n",
            "(89, 7)\n",
            "                     Dodatkowe uwagi Error przy dźwiękach, druga\n",
            "połowa się zapętliła. Przerobiłam plik i nagrałam od nowa ale dopiero\n",
            "po zadaniach na komputerze. Kilka pierwszych obrazków z ostatniej\n",
            "części bez EDA bo Pan złączył dłonie, odbiór EDA po tym był zaburzony\n",
            "na 2 minuty.\n",
            "Is this sample valid?: (yes / no)no\n",
            "Dodatkowe uwagi Wysoka potliwość dłoni i EDA dobre, ale odklejają się\n",
            "naklejki i wymieniam kilka razy. Opadające powieki zasłaniają źrenicę,\n",
            "gruby łuk brwiowy powoduje, że obraz jest ciemniejszy a kalibracja\n",
            "oczu trudniejsza, ale walczę.\n",
            "Is this sample valid?: (yes / no)no\n",
            "        Dodatkowe uwagi Error, stracone 4 filmy\n",
            "Is this sample valid?: (yes / no)yes\n",
            "\n",
            "\n",
            "(90, 7)\n",
            "Dodatkowe uwagi Spoko, ale głębokie oczka i na rampie serduszko słabo\n",
            "było odbierane ale przestawiliśmy. Non-monotonic timestamp, 4 obrazki\n",
            "stracone w ostatniej części\n",
            "Is this sample valid?: (yes / no)no\n",
            "                                            Dodatkowe uwagi Non-\n",
            "monotonic timestamp w ostatniej części 9 zdjęć do kosza\n",
            "Is this sample valid?: (yes / no)no\n",
            "                                             Dodatkowe uwagi Duże\n",
            "źrenice z natury - pani mówi, że bardzo sie jej rozszerzają tak po\n",
            "prostu ale super się kalibruje. Problem w obrazkach, unity nie wyslalo\n",
            "kolejnego triggera i nie zatrzymalo nagrania po 1 czesci.\n",
            "Is this sample valid?: (yes / no)yes\n",
            "\n",
            "\n",
            "(91, 7)\n",
            "            Dodatkowe uwagi nie zatrzymało się nagrywanie po ostatnim\n",
            "bodźcu. restart programów, nie ma logów z pupil capture\n",
            "Is this sample valid?: (yes / no)no\n",
            "            Dodatkowe uwagi nie zatrzymało się nagrywanie po ostatnim\n",
            "bodźcu. restart programów, nie ma logów z pupil capture\n",
            "Is this sample valid?: (yes / no)no\n",
            "                      Dodatkowe uwagi Problemy z eyetrackerem od\n",
            "początku, duża ilość makijażu wodoodpornego, piercing do zaklejenia.\n",
            "Przy dźwiękach puściłam gorszy wynik, bo jak patrzy przed siebie to\n",
            "dobrze łapie.\n",
            "Is this sample valid?: (yes / no)no\n",
            "                                                          Dodatkowe\n",
            "uwagi Miły pan ale strasznie mruga i dlatego ta kalibracja średnio\n",
            "wychodzi bo źrenice znajduje ładnie, minimum 4 mrugnięcia na\n",
            "kalibrację w kluczowych momentach. Pan zamyka oczy, za dużo dla niego\n",
            "ekranu i go to męczy.\n",
            "Is this sample valid?: (yes / no)no\n",
            "       Dodatkowe uwagi sensor światła się przesunął, rampa puszczona\n",
            "trzeci raz. potem wiele razy blad non monotonic timestamp; oraz\n",
            "dżwięków nie słychać - po filmach puszczone obrazy. następnie zadania\n",
            "podczas gdy ja restartuję komputery. audio na końcu.\n",
            "Is this sample valid?: (yes / no)no\n",
            "                   Dodatkowe uwagi RAMPA:\\nNon-monotonic timestamp 3\n",
            "razy – w sumie dwa bodźce stracone. \\nFilmy:\\nNon-monotonic timestamp\n",
            "2 razy na drugiej części – 1 bodziec stracony\\nDźwięki:\\nNon-monotonic\n",
            "timestamp 7 razy na 1 części– 2 triggery straciłam\\nNon-monotonic\n",
            "timestamp 2 razy na 2 części– 1 trigger straciłam\\nObrazki:\\nNon-\n",
            "monotonic timestamp 5 razy w 1 części, w 2 części 5 razy - 2 triggery\n",
            "stracone, w 3 części 4 razy\\nNagrywanie uruchamiane ręcznie za każdym\n",
            "razem.\\n\n",
            "Is this sample valid?: (yes / no)no\n",
            "                              Dodatkowe uwagi Na rampie na 2 czesci\n",
            "byl 1, na filmach 4 razy na 1 czesci i 2 stracone, na 2 częsci 3 razy,\n",
            "na dzwiekach z 7 razy na 1 czesci, 11 na 2 czesci, 1 trigger stracony,\n",
            "na 1 czesci obrazkow 3 errory i 1trigger stracony, na 2 czesci 3\n",
            "errory 3 triggery stracone\n",
            "Is this sample valid?: (yes / no)no\n",
            "                                               Dodatkowe uwagi non\n",
            "monotonic timestamop na obrazkach raz - niestety tak ładnie go nie\n",
            "było przez cały czas, że się zagapiłam i straciłam 3-4 bodźce\n",
            "Is this sample valid?: (yes / no)no\n"
          ]
        }
      ],
      "source": [
        "for patient in invalid_patients:\n",
        "    comment = data_pic.loc[data_pic['Numer osoby'] == patient, ['Dodatkowe uwagi']].to_string(index=False)\n",
        "    wrapped_comment = wrap_text(comment)\n",
        "    print(wrapped_comment)\n",
        "    decision = input(\"Is this sample valid?: (yes / no)\")\n",
        "    if decision == 'yes':\n",
        "        data_pic_filtered = pd.concat(\n",
        "            [data_pic_filtered, data_pic[data_pic['Numer osoby'] == patient]],\n",
        "            ignore_index=True\n",
        "        )\n",
        "\n",
        "        print(\"\\n\")\n",
        "    else:\n",
        "        continue\n",
        "    print(data_pic_filtered.shape)\n",
        "\n"
      ]
    },
    {
      "cell_type": "code",
      "execution_count": 12,
      "metadata": {
        "colab": {
          "base_uri": "https://localhost:8080/"
        },
        "id": "_GKRI222V6NZ",
        "outputId": "27d7f4f1-6673-48b8-c7ba-dac5bbaeef61"
      },
      "outputs": [
        {
          "name": "stdout",
          "output_type": "stream",
          "text": [
            "(91, 7)\n"
          ]
        }
      ],
      "source": [
        "print(data_pic_filtered.shape)"
      ]
    },
    {
      "cell_type": "code",
      "execution_count": 13,
      "metadata": {
        "colab": {
          "base_uri": "https://localhost:8080/",
          "height": 17
        },
        "id": "YA4LDXi7W4j9",
        "outputId": "952babc1-35cc-4ea7-f1ca-7a36df31b75b"
      },
      "outputs": [
        {
          "data": {
            "application/javascript": "\n    async function download(id, filename, size) {\n      if (!google.colab.kernel.accessAllowed) {\n        return;\n      }\n      const div = document.createElement('div');\n      const label = document.createElement('label');\n      label.textContent = `Downloading \"${filename}\": `;\n      div.appendChild(label);\n      const progress = document.createElement('progress');\n      progress.max = size;\n      div.appendChild(progress);\n      document.body.appendChild(div);\n\n      const buffers = [];\n      let downloaded = 0;\n\n      const channel = await google.colab.kernel.comms.open(id);\n      // Send a message to notify the kernel that we're ready.\n      channel.send({})\n\n      for await (const message of channel.messages) {\n        // Send a message to notify the kernel that we're ready.\n        channel.send({})\n        if (message.buffers) {\n          for (const buffer of message.buffers) {\n            buffers.push(buffer);\n            downloaded += buffer.byteLength;\n            progress.value = downloaded;\n          }\n        }\n      }\n      const blob = new Blob(buffers, {type: 'application/binary'});\n      const a = document.createElement('a');\n      a.href = window.URL.createObjectURL(blob);\n      a.download = filename;\n      div.appendChild(a);\n      a.click();\n      div.remove();\n    }\n  ",
            "text/plain": [
              "<IPython.core.display.Javascript object>"
            ]
          },
          "metadata": {},
          "output_type": "display_data"
        },
        {
          "data": {
            "application/javascript": "download(\"download_06366983-5c91-4340-a60a-0c3d63e3efd0\", \"participants_pic_filtered.xlsx\", 12719)",
            "text/plain": [
              "<IPython.core.display.Javascript object>"
            ]
          },
          "metadata": {},
          "output_type": "display_data"
        }
      ],
      "source": [
        "data_pic_filtered.to_excel('participants_pic_filtered.xlsx', index=False)\n",
        "from google.colab import files\n",
        "files.download('participants_pic_filtered.xlsx')"
      ]
    },
    {
      "cell_type": "markdown",
      "metadata": {},
      "source": [
        "Let's see how many samples we saved"
      ]
    },
    {
      "cell_type": "code",
      "execution_count": 15,
      "metadata": {
        "colab": {
          "base_uri": "https://localhost:8080/",
          "height": 175
        },
        "id": "bcvPrYiFXH5P",
        "outputId": "828ea26e-31c6-449e-ff87-0834566dbb29"
      },
      "outputs": [
        {
          "data": {
            "application/vnd.google.colaboratory.intrinsic+json": {
              "summary": "{\n  \"name\": \"added_rows\",\n  \"rows\": 4,\n  \"fields\": [\n    {\n      \"column\": \"Numer osoby\",\n      \"properties\": {\n        \"dtype\": \"string\",\n        \"num_unique_values\": 4,\n        \"samples\": [\n          \"S28\",\n          \"S43\",\n          \"S15\"\n        ],\n        \"semantic_type\": \"\",\n        \"description\": \"\"\n      }\n    },\n    {\n      \"column\": \"p\\u0142e\\u0107\",\n      \"properties\": {\n        \"dtype\": \"string\",\n        \"num_unique_values\": 2,\n        \"samples\": [\n          \"m\",\n          \"k\"\n        ],\n        \"semantic_type\": \"\",\n        \"description\": \"\"\n      }\n    },\n    {\n      \"column\": \"kolor oczu\",\n      \"properties\": {\n        \"dtype\": \"string\",\n        \"num_unique_values\": 3,\n        \"samples\": [\n          \"zielono-br\\u0105zowe\",\n          \"niebieskie\"\n        ],\n        \"semantic_type\": \"\",\n        \"description\": \"\"\n      }\n    },\n    {\n      \"column\": \"kalibracja_PICTURE1\",\n      \"properties\": {\n        \"dtype\": \"string\",\n        \"num_unique_values\": 4,\n        \"samples\": [\n          \"2.850;\\n0.236\",\n          \"1.867; 0.118\"\n        ],\n        \"semantic_type\": \"\",\n        \"description\": \"\"\n      }\n    },\n    {\n      \"column\": \"kalibracja_PICTURE2\",\n      \"properties\": {\n        \"dtype\": \"string\",\n        \"num_unique_values\": 4,\n        \"samples\": [\n          \"3.079;\\n0.230\",\n          \"2.070; 0.127\"\n        ],\n        \"semantic_type\": \"\",\n        \"description\": \"\"\n      }\n    },\n    {\n      \"column\": \"kalibracja_PICTURE3\",\n      \"properties\": {\n        \"dtype\": \"string\",\n        \"num_unique_values\": 4,\n        \"samples\": [\n          \"2.306;\\n0.238\",\n          \"1.070; 0.113\"\n        ],\n        \"semantic_type\": \"\",\n        \"description\": \"\"\n      }\n    },\n    {\n      \"column\": \"Dodatkowe uwagi\",\n      \"properties\": {\n        \"dtype\": \"string\",\n        \"num_unique_values\": 4,\n        \"samples\": [\n          \"non-monotonic timestamp w 1cz d\\u017cwi\\u0119k\\u00f3w, stracone 2-3 bod\\u017ace\",\n          \"Du\\u017ce \\u017arenice z natury - pani m\\u00f3wi, \\u017ce bardzo sie jej rozszerzaj\\u0105 tak po prostu ale super si\\u0119 kalibruje. Problem w obrazkach, unity nie wyslalo kolejnego triggera i nie zatrzymalo nagrania po 1 czesci.\"\n        ],\n        \"semantic_type\": \"\",\n        \"description\": \"\"\n      }\n    }\n  ]\n}",
              "type": "dataframe",
              "variable_name": "added_rows"
            },
            "text/html": [
              "\n",
              "  <div id=\"df-e0f217a5-5f5c-4671-8267-5045f66f15dc\" class=\"colab-df-container\">\n",
              "    <div>\n",
              "<style scoped>\n",
              "    .dataframe tbody tr th:only-of-type {\n",
              "        vertical-align: middle;\n",
              "    }\n",
              "\n",
              "    .dataframe tbody tr th {\n",
              "        vertical-align: top;\n",
              "    }\n",
              "\n",
              "    .dataframe thead th {\n",
              "        text-align: right;\n",
              "    }\n",
              "</style>\n",
              "<table border=\"1\" class=\"dataframe\">\n",
              "  <thead>\n",
              "    <tr style=\"text-align: right;\">\n",
              "      <th></th>\n",
              "      <th>Numer osoby</th>\n",
              "      <th>płeć</th>\n",
              "      <th>kolor oczu</th>\n",
              "      <th>kalibracja_PICTURE1</th>\n",
              "      <th>kalibracja_PICTURE2</th>\n",
              "      <th>kalibracja_PICTURE3</th>\n",
              "      <th>Dodatkowe uwagi</th>\n",
              "    </tr>\n",
              "  </thead>\n",
              "  <tbody>\n",
              "    <tr>\n",
              "      <th>87</th>\n",
              "      <td>S15</td>\n",
              "      <td>k</td>\n",
              "      <td>zielono-brązowe</td>\n",
              "      <td>3.258; 0.157</td>\n",
              "      <td>3.876;\\n0.160</td>\n",
              "      <td>2.982; \\n0.176</td>\n",
              "      <td>non-monotonic timestamp - stracone dane z 5 os...</td>\n",
              "    </tr>\n",
              "    <tr>\n",
              "      <th>88</th>\n",
              "      <td>S28</td>\n",
              "      <td>m</td>\n",
              "      <td>niebieskie</td>\n",
              "      <td>2.850;\\n0.236</td>\n",
              "      <td>3.079;\\n0.230</td>\n",
              "      <td>2.306;\\n0.238</td>\n",
              "      <td>non-monotonic timestamp w 1cz dżwięków, straco...</td>\n",
              "    </tr>\n",
              "    <tr>\n",
              "      <th>89</th>\n",
              "      <td>S35</td>\n",
              "      <td>m</td>\n",
              "      <td>brązowe</td>\n",
              "      <td>2.354; 0.161</td>\n",
              "      <td>2.945; 0.168</td>\n",
              "      <td>2.538; 0.163</td>\n",
              "      <td>Error, stracone 4 filmy</td>\n",
              "    </tr>\n",
              "    <tr>\n",
              "      <th>90</th>\n",
              "      <td>S43</td>\n",
              "      <td>k</td>\n",
              "      <td>niebieskie</td>\n",
              "      <td>1.867; 0.118</td>\n",
              "      <td>2.070; 0.127</td>\n",
              "      <td>1.070; 0.113</td>\n",
              "      <td>Duże źrenice z natury - pani mówi, że bardzo s...</td>\n",
              "    </tr>\n",
              "  </tbody>\n",
              "</table>\n",
              "</div>\n",
              "    <div class=\"colab-df-buttons\">\n",
              "\n",
              "  <div class=\"colab-df-container\">\n",
              "    <button class=\"colab-df-convert\" onclick=\"convertToInteractive('df-e0f217a5-5f5c-4671-8267-5045f66f15dc')\"\n",
              "            title=\"Convert this dataframe to an interactive table.\"\n",
              "            style=\"display:none;\">\n",
              "\n",
              "  <svg xmlns=\"http://www.w3.org/2000/svg\" height=\"24px\" viewBox=\"0 -960 960 960\">\n",
              "    <path d=\"M120-120v-720h720v720H120Zm60-500h600v-160H180v160Zm220 220h160v-160H400v160Zm0 220h160v-160H400v160ZM180-400h160v-160H180v160Zm440 0h160v-160H620v160ZM180-180h160v-160H180v160Zm440 0h160v-160H620v160Z\"/>\n",
              "  </svg>\n",
              "    </button>\n",
              "\n",
              "  <style>\n",
              "    .colab-df-container {\n",
              "      display:flex;\n",
              "      gap: 12px;\n",
              "    }\n",
              "\n",
              "    .colab-df-convert {\n",
              "      background-color: #E8F0FE;\n",
              "      border: none;\n",
              "      border-radius: 50%;\n",
              "      cursor: pointer;\n",
              "      display: none;\n",
              "      fill: #1967D2;\n",
              "      height: 32px;\n",
              "      padding: 0 0 0 0;\n",
              "      width: 32px;\n",
              "    }\n",
              "\n",
              "    .colab-df-convert:hover {\n",
              "      background-color: #E2EBFA;\n",
              "      box-shadow: 0px 1px 2px rgba(60, 64, 67, 0.3), 0px 1px 3px 1px rgba(60, 64, 67, 0.15);\n",
              "      fill: #174EA6;\n",
              "    }\n",
              "\n",
              "    .colab-df-buttons div {\n",
              "      margin-bottom: 4px;\n",
              "    }\n",
              "\n",
              "    [theme=dark] .colab-df-convert {\n",
              "      background-color: #3B4455;\n",
              "      fill: #D2E3FC;\n",
              "    }\n",
              "\n",
              "    [theme=dark] .colab-df-convert:hover {\n",
              "      background-color: #434B5C;\n",
              "      box-shadow: 0px 1px 3px 1px rgba(0, 0, 0, 0.15);\n",
              "      filter: drop-shadow(0px 1px 2px rgba(0, 0, 0, 0.3));\n",
              "      fill: #FFFFFF;\n",
              "    }\n",
              "  </style>\n",
              "\n",
              "    <script>\n",
              "      const buttonEl =\n",
              "        document.querySelector('#df-e0f217a5-5f5c-4671-8267-5045f66f15dc button.colab-df-convert');\n",
              "      buttonEl.style.display =\n",
              "        google.colab.kernel.accessAllowed ? 'block' : 'none';\n",
              "\n",
              "      async function convertToInteractive(key) {\n",
              "        const element = document.querySelector('#df-e0f217a5-5f5c-4671-8267-5045f66f15dc');\n",
              "        const dataTable =\n",
              "          await google.colab.kernel.invokeFunction('convertToInteractive',\n",
              "                                                    [key], {});\n",
              "        if (!dataTable) return;\n",
              "\n",
              "        const docLinkHtml = 'Like what you see? Visit the ' +\n",
              "          '<a target=\"_blank\" href=https://colab.research.google.com/notebooks/data_table.ipynb>data table notebook</a>'\n",
              "          + ' to learn more about interactive tables.';\n",
              "        element.innerHTML = '';\n",
              "        dataTable['output_type'] = 'display_data';\n",
              "        await google.colab.output.renderOutput(dataTable, element);\n",
              "        const docLink = document.createElement('div');\n",
              "        docLink.innerHTML = docLinkHtml;\n",
              "        element.appendChild(docLink);\n",
              "      }\n",
              "    </script>\n",
              "  </div>\n",
              "\n",
              "\n",
              "<div id=\"df-f938ffd6-5cd8-4fdf-b79e-5951f54a9962\">\n",
              "  <button class=\"colab-df-quickchart\" onclick=\"quickchart('df-f938ffd6-5cd8-4fdf-b79e-5951f54a9962')\"\n",
              "            title=\"Suggest charts\"\n",
              "            style=\"display:none;\">\n",
              "\n",
              "<svg xmlns=\"http://www.w3.org/2000/svg\" height=\"24px\"viewBox=\"0 0 24 24\"\n",
              "     width=\"24px\">\n",
              "    <g>\n",
              "        <path d=\"M19 3H5c-1.1 0-2 .9-2 2v14c0 1.1.9 2 2 2h14c1.1 0 2-.9 2-2V5c0-1.1-.9-2-2-2zM9 17H7v-7h2v7zm4 0h-2V7h2v10zm4 0h-2v-4h2v4z\"/>\n",
              "    </g>\n",
              "</svg>\n",
              "  </button>\n",
              "\n",
              "<style>\n",
              "  .colab-df-quickchart {\n",
              "      --bg-color: #E8F0FE;\n",
              "      --fill-color: #1967D2;\n",
              "      --hover-bg-color: #E2EBFA;\n",
              "      --hover-fill-color: #174EA6;\n",
              "      --disabled-fill-color: #AAA;\n",
              "      --disabled-bg-color: #DDD;\n",
              "  }\n",
              "\n",
              "  [theme=dark] .colab-df-quickchart {\n",
              "      --bg-color: #3B4455;\n",
              "      --fill-color: #D2E3FC;\n",
              "      --hover-bg-color: #434B5C;\n",
              "      --hover-fill-color: #FFFFFF;\n",
              "      --disabled-bg-color: #3B4455;\n",
              "      --disabled-fill-color: #666;\n",
              "  }\n",
              "\n",
              "  .colab-df-quickchart {\n",
              "    background-color: var(--bg-color);\n",
              "    border: none;\n",
              "    border-radius: 50%;\n",
              "    cursor: pointer;\n",
              "    display: none;\n",
              "    fill: var(--fill-color);\n",
              "    height: 32px;\n",
              "    padding: 0;\n",
              "    width: 32px;\n",
              "  }\n",
              "\n",
              "  .colab-df-quickchart:hover {\n",
              "    background-color: var(--hover-bg-color);\n",
              "    box-shadow: 0 1px 2px rgba(60, 64, 67, 0.3), 0 1px 3px 1px rgba(60, 64, 67, 0.15);\n",
              "    fill: var(--button-hover-fill-color);\n",
              "  }\n",
              "\n",
              "  .colab-df-quickchart-complete:disabled,\n",
              "  .colab-df-quickchart-complete:disabled:hover {\n",
              "    background-color: var(--disabled-bg-color);\n",
              "    fill: var(--disabled-fill-color);\n",
              "    box-shadow: none;\n",
              "  }\n",
              "\n",
              "  .colab-df-spinner {\n",
              "    border: 2px solid var(--fill-color);\n",
              "    border-color: transparent;\n",
              "    border-bottom-color: var(--fill-color);\n",
              "    animation:\n",
              "      spin 1s steps(1) infinite;\n",
              "  }\n",
              "\n",
              "  @keyframes spin {\n",
              "    0% {\n",
              "      border-color: transparent;\n",
              "      border-bottom-color: var(--fill-color);\n",
              "      border-left-color: var(--fill-color);\n",
              "    }\n",
              "    20% {\n",
              "      border-color: transparent;\n",
              "      border-left-color: var(--fill-color);\n",
              "      border-top-color: var(--fill-color);\n",
              "    }\n",
              "    30% {\n",
              "      border-color: transparent;\n",
              "      border-left-color: var(--fill-color);\n",
              "      border-top-color: var(--fill-color);\n",
              "      border-right-color: var(--fill-color);\n",
              "    }\n",
              "    40% {\n",
              "      border-color: transparent;\n",
              "      border-right-color: var(--fill-color);\n",
              "      border-top-color: var(--fill-color);\n",
              "    }\n",
              "    60% {\n",
              "      border-color: transparent;\n",
              "      border-right-color: var(--fill-color);\n",
              "    }\n",
              "    80% {\n",
              "      border-color: transparent;\n",
              "      border-right-color: var(--fill-color);\n",
              "      border-bottom-color: var(--fill-color);\n",
              "    }\n",
              "    90% {\n",
              "      border-color: transparent;\n",
              "      border-bottom-color: var(--fill-color);\n",
              "    }\n",
              "  }\n",
              "</style>\n",
              "\n",
              "  <script>\n",
              "    async function quickchart(key) {\n",
              "      const quickchartButtonEl =\n",
              "        document.querySelector('#' + key + ' button');\n",
              "      quickchartButtonEl.disabled = true;  // To prevent multiple clicks.\n",
              "      quickchartButtonEl.classList.add('colab-df-spinner');\n",
              "      try {\n",
              "        const charts = await google.colab.kernel.invokeFunction(\n",
              "            'suggestCharts', [key], {});\n",
              "      } catch (error) {\n",
              "        console.error('Error during call to suggestCharts:', error);\n",
              "      }\n",
              "      quickchartButtonEl.classList.remove('colab-df-spinner');\n",
              "      quickchartButtonEl.classList.add('colab-df-quickchart-complete');\n",
              "    }\n",
              "    (() => {\n",
              "      let quickchartButtonEl =\n",
              "        document.querySelector('#df-f938ffd6-5cd8-4fdf-b79e-5951f54a9962 button');\n",
              "      quickchartButtonEl.style.display =\n",
              "        google.colab.kernel.accessAllowed ? 'block' : 'none';\n",
              "    })();\n",
              "  </script>\n",
              "</div>\n",
              "    </div>\n",
              "  </div>\n"
            ],
            "text/plain": [
              "   Numer osoby płeć       kolor oczu kalibracja_PICTURE1 kalibracja_PICTURE2  \\\n",
              "87         S15    k  zielono-brązowe        3.258; 0.157       3.876;\\n0.160   \n",
              "88         S28    m       niebieskie       2.850;\\n0.236       3.079;\\n0.230   \n",
              "89         S35    m          brązowe        2.354; 0.161        2.945; 0.168   \n",
              "90         S43    k       niebieskie        1.867; 0.118        2.070; 0.127   \n",
              "\n",
              "   kalibracja_PICTURE3                                    Dodatkowe uwagi  \n",
              "87      2.982; \\n0.176  non-monotonic timestamp - stracone dane z 5 os...  \n",
              "88       2.306;\\n0.238  non-monotonic timestamp w 1cz dżwięków, straco...  \n",
              "89        2.538; 0.163                            Error, stracone 4 filmy  \n",
              "90        1.070; 0.113  Duże źrenice z natury - pani mówi, że bardzo s...  "
            ]
          },
          "execution_count": 15,
          "metadata": {},
          "output_type": "execute_result"
        }
      ],
      "source": [
        "added_rows = data_pic_filtered[data_pic_filtered['Numer osoby'].isin(invalid_patients)]\n",
        "added_rows"
      ]
    }
  ],
  "metadata": {
    "colab": {
      "provenance": []
    },
    "kernelspec": {
      "display_name": "Python 3",
      "language": "python",
      "name": "python3"
    },
    "language_info": {
      "codemirror_mode": {
        "name": "ipython",
        "version": 3
      },
      "file_extension": ".py",
      "mimetype": "text/x-python",
      "name": "python",
      "nbconvert_exporter": "python",
      "pygments_lexer": "ipython3",
      "version": "3.12.2"
    }
  },
  "nbformat": 4,
  "nbformat_minor": 0
}
