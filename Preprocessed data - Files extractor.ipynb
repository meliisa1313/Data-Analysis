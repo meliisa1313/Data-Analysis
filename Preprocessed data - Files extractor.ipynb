{
 "cells": [
  {
   "cell_type": "markdown",
   "metadata": {},
   "source": [
    "By: Michał Marusiński, Jan Łucarz"
   ]
  },
  {
   "cell_type": "markdown",
   "metadata": {},
   "source": [
    "\"\"\"\n",
    "TO CHECK!!!\n",
    "from scipy.io import loadmat\n",
    "import pandas as pd\n",
    "\n",
    "data = loadmat(r\"C:\\Users\\19194\\Desktop\\Data.mat\")\n",
    "\n",
    "\n",
    "df = pd.DataFrame(data['pic_data'])  \n",
    "\n",
    "\n",
    "df.to_csv(r\"C:\\Users\\19194\\Desktop\\Classes\\DW.csv\", index=False)\n",
    "\"\"\""
   ]
  },
  {
   "cell_type": "markdown",
   "metadata": {},
   "source": [
    "Necessary libraries"
   ]
  },
  {
   "cell_type": "code",
   "execution_count": 74,
   "metadata": {},
   "outputs": [],
   "source": [
    "from scipy.io import loadmat\n",
    "import pandas as pd\n",
    "import numpy as np\n"
   ]
  },
  {
   "cell_type": "markdown",
   "metadata": {},
   "source": [
    "Select **your computer path according to preprocesssed_pic_data.mat location**"
   ]
  },
  {
   "cell_type": "code",
   "execution_count": 4,
   "metadata": {},
   "outputs": [],
   "source": [
    "data_pic = loadmat(r\"C:\\Users\\48660\\Desktop\\Development Workshop\\preprocessed\\preprocessed_pic_data\\preprocessed_pic_data.mat\")"
   ]
  },
  {
   "cell_type": "markdown",
   "metadata": {},
   "source": [
    "First--- how the matfile looks"
   ]
  },
  {
   "cell_type": "markdown",
   "metadata": {},
   "source": [
    "We make dataframe out of just 1 sample (patient) and transpose it to have the data in a proper shape and format. "
   ]
  },
  {
   "cell_type": "code",
   "execution_count": 94,
   "metadata": {},
   "outputs": [
    {
     "name": "stdout",
     "output_type": "stream",
     "text": [
      "Shape of the data: (304, 6), means it has 304 patients with 5 columns each\n"
     ]
    },
    {
     "data": {
      "text/html": [
       "<div>\n",
       "<style scoped>\n",
       "    .dataframe tbody tr th:only-of-type {\n",
       "        vertical-align: middle;\n",
       "    }\n",
       "\n",
       "    .dataframe tbody tr th {\n",
       "        vertical-align: top;\n",
       "    }\n",
       "\n",
       "    .dataframe thead th {\n",
       "        text-align: right;\n",
       "    }\n",
       "</style>\n",
       "<table border=\"1\" class=\"dataframe\">\n",
       "  <thead>\n",
       "    <tr style=\"text-align: right;\">\n",
       "      <th></th>\n",
       "      <th>0</th>\n",
       "      <th>1</th>\n",
       "      <th>2</th>\n",
       "      <th>3</th>\n",
       "      <th>4</th>\n",
       "      <th>5</th>\n",
       "    </tr>\n",
       "  </thead>\n",
       "  <tbody>\n",
       "    <tr>\n",
       "      <th>0</th>\n",
       "      <td>[int_2022_12_16_10-29 S01_pic_000_1_L.mat]</td>\n",
       "      <td>[[0.0], [0.001], [0.002], [0.003], [0.004], [0...</td>\n",
       "      <td>[[21.02334936534498], [21.012304013466498], [2...</td>\n",
       "      <td>[[0.0], [4.956492306396996], [9.96496093432668...</td>\n",
       "      <td>[[4.955492306396995], [9.963960934326678], [14...</td>\n",
       "      <td>[[0], [40451], [10000], [41182], [10000], [410...</td>\n",
       "    </tr>\n",
       "  </tbody>\n",
       "</table>\n",
       "</div>"
      ],
      "text/plain": [
       "                                            0  \\\n",
       "0  [int_2022_12_16_10-29 S01_pic_000_1_L.mat]   \n",
       "\n",
       "                                                   1  \\\n",
       "0  [[0.0], [0.001], [0.002], [0.003], [0.004], [0...   \n",
       "\n",
       "                                                   2  \\\n",
       "0  [[21.02334936534498], [21.012304013466498], [2...   \n",
       "\n",
       "                                                   3  \\\n",
       "0  [[0.0], [4.956492306396996], [9.96496093432668...   \n",
       "\n",
       "                                                   4  \\\n",
       "0  [[4.955492306396995], [9.963960934326678], [14...   \n",
       "\n",
       "                                                   5  \n",
       "0  [[0], [40451], [10000], [41182], [10000], [410...  "
      ]
     },
     "execution_count": 94,
     "metadata": {},
     "output_type": "execute_result"
    }
   ],
   "source": [
    "pic_data = data_pic['pic_data']\n",
    "print(f\"Shape of the data: {pic_data.shape}, means it has {pic_data.shape[0]} patients with {pic_data.shape[1] - 1} columns each\")\n",
    "patient_01 = pd.DataFrame(pic_data[0]).transpose()\n",
    "patient_01.head()\n"
   ]
  },
  {
   "cell_type": "code",
   "execution_count": 95,
   "metadata": {},
   "outputs": [
    {
     "data": {
      "text/plain": [
       "pandas.core.series.Series"
      ]
     },
     "execution_count": 95,
     "metadata": {},
     "output_type": "execute_result"
    }
   ],
   "source": [
    "type(patient_01[0])"
   ]
  },
  {
   "cell_type": "markdown",
   "metadata": {},
   "source": [
    "Creating:\n",
    "* file_name_creator for extracting proper file_name for each file\n",
    "* dataframe_creator for creating clean DataFrame out of single sample of mat file"
   ]
  },
  {
   "cell_type": "code",
   "execution_count": 102,
   "metadata": {},
   "outputs": [],
   "source": [
    "def file_name_creator(patient: np.ndarray):\n",
    "    name_of_file = patient[0][0]\n",
    "    name_of_file = name_of_file.replace('.', '_')\n",
    "    file_name_split = name_of_file.split(sep = '_')\n",
    "    file_name_split.pop(-1) #deleting .mat word\n",
    "    file_name_split[-1] ='LEFT_EYE' if 'L' else 'RIGHT_EYE'     #switching L / R to LEFT / RIGHT EYE\n",
    "    file_name = file_name_split = '_'.join(file_name_split)\n",
    "    return file_name"
   ]
  },
  {
   "cell_type": "code",
   "execution_count": 112,
   "metadata": {},
   "outputs": [],
   "source": [
    "def dataframe_creator(patient_data_raw: pd.Series):\n",
    "    column_names = ['time', 'pupil diameter [mm]', 'trigger segmentStart', 'tigger segmentEnd', 'trigger info']\n",
    "    patient_data_raw = pd.DataFrame(patient_data_raw).transpose()\n",
    "    single_patient_data = (patient_data_raw[1].explode()\n",
    "                    .reset_index(drop = True)\n",
    "                    .to_frame(name = column_names[0]))\n",
    "    single_patient_data = single_patient_data.map(lambda x: float(x))\n",
    "    \n",
    "    for column_idx in range(2, patient_data_raw.shape[1]):\n",
    "        single_patient_data[column_names[column_idx - 1]] = (patient_data_raw[column_idx].explode()\n",
    "                                        .reset_index(drop = True)\n",
    "                                        .to_frame())\n",
    "    single_patient_data = single_patient_data.map(lambda x: float(x))\n",
    "    \n",
    "    return single_patient_data"
   ]
  },
  {
   "cell_type": "markdown",
   "metadata": {},
   "source": [
    "Creating loop to sort patients into their own CSV files\n",
    "\n",
    "To pick your target folder path of where to store all the files \n",
    "\n",
    "\n",
    "**CHANGE THE DESTINATION PATH VARIABLE ASSIGNMENT BELOW**"
   ]
  },
  {
   "cell_type": "code",
   "execution_count": 61,
   "metadata": {},
   "outputs": [],
   "source": [
    "dest_path = r\"C:\\Users\\48660\\Desktop\\Development Workshop\\preprocessed\\preprocessed_pic_data\""
   ]
  },
  {
   "cell_type": "code",
   "execution_count": 62,
   "metadata": {},
   "outputs": [],
   "source": [
    "#Just a warning silencer for the loop\n",
    "import warnings\n",
    "warnings.filterwarnings(\"ignore\", category=DeprecationWarning)"
   ]
  },
  {
   "cell_type": "code",
   "execution_count": 117,
   "metadata": {},
   "outputs": [],
   "source": [
    "#create loop for separating patients to separate files\n",
    "for patient in pic_data:\n",
    "    patient_df = dataframe_creator(patient_data_raw = patient)\n",
    "    patient_df.to_csv(dest_path + '\\\\' + file_name_creator(patient), index = False)\n"
   ]
  },
  {
   "cell_type": "markdown",
   "metadata": {},
   "source": [
    "Check if the single csv works (remember to change path of your csv file in my_path)"
   ]
  },
  {
   "cell_type": "code",
   "execution_count": 118,
   "metadata": {},
   "outputs": [
    {
     "data": {
      "text/html": [
       "<div>\n",
       "<style scoped>\n",
       "    .dataframe tbody tr th:only-of-type {\n",
       "        vertical-align: middle;\n",
       "    }\n",
       "\n",
       "    .dataframe tbody tr th {\n",
       "        vertical-align: top;\n",
       "    }\n",
       "\n",
       "    .dataframe thead th {\n",
       "        text-align: right;\n",
       "    }\n",
       "</style>\n",
       "<table border=\"1\" class=\"dataframe\">\n",
       "  <thead>\n",
       "    <tr style=\"text-align: right;\">\n",
       "      <th></th>\n",
       "      <th>time</th>\n",
       "      <th>pupil diameter [mm]</th>\n",
       "      <th>trigger segmentStart</th>\n",
       "      <th>tigger segmentEnd</th>\n",
       "      <th>trigger info</th>\n",
       "    </tr>\n",
       "  </thead>\n",
       "  <tbody>\n",
       "    <tr>\n",
       "      <th>0</th>\n",
       "      <td>0.000</td>\n",
       "      <td>20.097653</td>\n",
       "      <td>0.000000</td>\n",
       "      <td>4.990216</td>\n",
       "      <td>0.0</td>\n",
       "    </tr>\n",
       "    <tr>\n",
       "      <th>1</th>\n",
       "      <td>0.001</td>\n",
       "      <td>20.052911</td>\n",
       "      <td>4.991216</td>\n",
       "      <td>9.999528</td>\n",
       "      <td>40492.0</td>\n",
       "    </tr>\n",
       "    <tr>\n",
       "      <th>2</th>\n",
       "      <td>0.002</td>\n",
       "      <td>20.008230</td>\n",
       "      <td>10.000528</td>\n",
       "      <td>15.008282</td>\n",
       "      <td>10000.0</td>\n",
       "    </tr>\n",
       "    <tr>\n",
       "      <th>3</th>\n",
       "      <td>0.003</td>\n",
       "      <td>19.963623</td>\n",
       "      <td>15.009282</td>\n",
       "      <td>20.015923</td>\n",
       "      <td>40592.0</td>\n",
       "    </tr>\n",
       "    <tr>\n",
       "      <th>4</th>\n",
       "      <td>0.004</td>\n",
       "      <td>19.919100</td>\n",
       "      <td>20.016923</td>\n",
       "      <td>25.025841</td>\n",
       "      <td>10000.0</td>\n",
       "    </tr>\n",
       "  </tbody>\n",
       "</table>\n",
       "</div>"
      ],
      "text/plain": [
       "    time  pupil diameter [mm]  trigger segmentStart  tigger segmentEnd  \\\n",
       "0  0.000            20.097653              0.000000           4.990216   \n",
       "1  0.001            20.052911              4.991216           9.999528   \n",
       "2  0.002            20.008230             10.000528          15.008282   \n",
       "3  0.003            19.963623             15.009282          20.015923   \n",
       "4  0.004            19.919100             20.016923          25.025841   \n",
       "\n",
       "   trigger info  \n",
       "0           0.0  \n",
       "1       40492.0  \n",
       "2       10000.0  \n",
       "3       40592.0  \n",
       "4       10000.0  "
      ]
     },
     "execution_count": 118,
     "metadata": {},
     "output_type": "execute_result"
    }
   ],
   "source": [
    "my_path = r\"C:\\Users\\48660\\Desktop\\Development Workshop\\preprocessed\\preprocessed_pic_data\\int_2022_12_19_10-46 S02_pic_000_4_LEFT_EYE\"\n",
    "sample_data = pd.read_csv(my_path)\n",
    "sample_data.head()"
   ]
  },
  {
   "cell_type": "code",
   "execution_count": 119,
   "metadata": {},
   "outputs": [
    {
     "data": {
      "text/html": [
       "<div>\n",
       "<style scoped>\n",
       "    .dataframe tbody tr th:only-of-type {\n",
       "        vertical-align: middle;\n",
       "    }\n",
       "\n",
       "    .dataframe tbody tr th {\n",
       "        vertical-align: top;\n",
       "    }\n",
       "\n",
       "    .dataframe thead th {\n",
       "        text-align: right;\n",
       "    }\n",
       "</style>\n",
       "<table border=\"1\" class=\"dataframe\">\n",
       "  <thead>\n",
       "    <tr style=\"text-align: right;\">\n",
       "      <th></th>\n",
       "      <th>time</th>\n",
       "      <th>pupil diameter [mm]</th>\n",
       "      <th>trigger segmentStart</th>\n",
       "      <th>tigger segmentEnd</th>\n",
       "      <th>trigger info</th>\n",
       "    </tr>\n",
       "  </thead>\n",
       "  <tbody>\n",
       "    <tr>\n",
       "      <th>count</th>\n",
       "      <td>400753.000000</td>\n",
       "      <td>400170.000000</td>\n",
       "      <td>81.000000</td>\n",
       "      <td>81.000000</td>\n",
       "      <td>81.000000</td>\n",
       "    </tr>\n",
       "    <tr>\n",
       "      <th>mean</th>\n",
       "      <td>200.376000</td>\n",
       "      <td>15.483305</td>\n",
       "      <td>200.352679</td>\n",
       "      <td>205.299544</td>\n",
       "      <td>26105.765432</td>\n",
       "    </tr>\n",
       "    <tr>\n",
       "      <th>std</th>\n",
       "      <td>115.687571</td>\n",
       "      <td>2.038735</td>\n",
       "      <td>117.866874</td>\n",
       "      <td>117.763202</td>\n",
       "      <td>17565.193137</td>\n",
       "    </tr>\n",
       "    <tr>\n",
       "      <th>min</th>\n",
       "      <td>0.000000</td>\n",
       "      <td>8.846813</td>\n",
       "      <td>0.000000</td>\n",
       "      <td>4.990216</td>\n",
       "      <td>0.000000</td>\n",
       "    </tr>\n",
       "    <tr>\n",
       "      <th>25%</th>\n",
       "      <td>100.188000</td>\n",
       "      <td>14.198019</td>\n",
       "      <td>100.158204</td>\n",
       "      <td>105.167466</td>\n",
       "      <td>10000.000000</td>\n",
       "    </tr>\n",
       "    <tr>\n",
       "      <th>50%</th>\n",
       "      <td>200.376000</td>\n",
       "      <td>15.458429</td>\n",
       "      <td>200.324365</td>\n",
       "      <td>205.333268</td>\n",
       "      <td>40041.000000</td>\n",
       "    </tr>\n",
       "    <tr>\n",
       "      <th>75%</th>\n",
       "      <td>300.564000</td>\n",
       "      <td>16.623380</td>\n",
       "      <td>300.500497</td>\n",
       "      <td>305.509080</td>\n",
       "      <td>40672.000000</td>\n",
       "    </tr>\n",
       "    <tr>\n",
       "      <th>max</th>\n",
       "      <td>400.752000</td>\n",
       "      <td>23.225197</td>\n",
       "      <td>400.777032</td>\n",
       "      <td>400.776032</td>\n",
       "      <td>99997.000000</td>\n",
       "    </tr>\n",
       "  </tbody>\n",
       "</table>\n",
       "</div>"
      ],
      "text/plain": [
       "                time  pupil diameter [mm]  trigger segmentStart  \\\n",
       "count  400753.000000        400170.000000             81.000000   \n",
       "mean      200.376000            15.483305            200.352679   \n",
       "std       115.687571             2.038735            117.866874   \n",
       "min         0.000000             8.846813              0.000000   \n",
       "25%       100.188000            14.198019            100.158204   \n",
       "50%       200.376000            15.458429            200.324365   \n",
       "75%       300.564000            16.623380            300.500497   \n",
       "max       400.752000            23.225197            400.777032   \n",
       "\n",
       "       tigger segmentEnd  trigger info  \n",
       "count          81.000000     81.000000  \n",
       "mean          205.299544  26105.765432  \n",
       "std           117.763202  17565.193137  \n",
       "min             4.990216      0.000000  \n",
       "25%           105.167466  10000.000000  \n",
       "50%           205.333268  40041.000000  \n",
       "75%           305.509080  40672.000000  \n",
       "max           400.776032  99997.000000  "
      ]
     },
     "execution_count": 119,
     "metadata": {},
     "output_type": "execute_result"
    }
   ],
   "source": [
    "sample_data.describe()"
   ]
  }
 ],
 "metadata": {
  "kernelspec": {
   "display_name": "Python 3",
   "language": "python",
   "name": "python3"
  },
  "language_info": {
   "codemirror_mode": {
    "name": "ipython",
    "version": 3
   },
   "file_extension": ".py",
   "mimetype": "text/x-python",
   "name": "python",
   "nbconvert_exporter": "python",
   "pygments_lexer": "ipython3",
   "version": "3.12.2"
  }
 },
 "nbformat": 4,
 "nbformat_minor": 2
}
